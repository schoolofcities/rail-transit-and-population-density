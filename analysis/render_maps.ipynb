{
 "cells": [
  {
   "cell_type": "code",
   "execution_count": 17,
   "id": "25415267-04f2-4f33-901c-c6a751277f79",
   "metadata": {},
   "outputs": [],
   "source": [
    "import os \n",
    "import numpy as np\n",
    "import pandas as pd\n",
    "from tqdm import tqdm\n",
    "\n",
    "import geopandas as gpd\n",
    "import rasterio as rio\n",
    "from shapely.geometry import Point\n",
    "from shapely.geometry import Polygon\n",
    "\n",
    "from geog import propagate\n",
    "\n",
    "import matplotlib.pyplot as plt\n",
    "import matplotlib as mpl\n",
    "from matplotlib.colors import LinearSegmentedColormap\n",
    "\n",
    "import contextily as cx"
   ]
  },
  {
   "cell_type": "code",
   "execution_count": 18,
   "id": "b86202cd-f2a1-44ea-a0b2-5ec2bc8228a5",
   "metadata": {},
   "outputs": [],
   "source": [
    "PROJ_CRS = 3857"
   ]
  },
  {
   "cell_type": "code",
   "execution_count": 19,
   "id": "659a08d5-07e3-4c88-9fb9-87d989c56a38",
   "metadata": {},
   "outputs": [],
   "source": [
    "def get_poly_tile(row):\n",
    "    x, y = row['geometry'].x, row['geometry'].y\n",
    "    offset = 1 / 240  # 0.004166666666666667\n",
    "    L = [(x+offset,y+offset), (x-offset,y+offset), (x-offset,y-offset), (x+offset,y-offset), (x+offset,y+offset)]\n",
    "    return Polygon(L)"
   ]
  },
  {
   "cell_type": "code",
   "execution_count": 20,
   "id": "26fd713d-bd68-4a0b-bb3a-bbcd4b32aa24",
   "metadata": {},
   "outputs": [],
   "source": [
    "def get_graph_edges(cur_city):\n",
    "    coords_gdf = gpd.read_file(f'../data/city_pop_tiles/{cur_city}_coords.gpkg')\n",
    "    city_center = coords_gdf[coords_gdf['is_center']].geometry.iloc[0]\n",
    "    \n",
    "    p = [city_center.x, city_center.y]\n",
    "    n_points = 5\n",
    "    d = 50000 # meters\n",
    "    angles = np.linspace(0, 360, n_points)\n",
    "    edge_points = propagate(p, angles, d)[:-1]  # Order is: E, N, W, S\n",
    "    \n",
    "    edge_points = [Point((point[0], point[1])) for point in edge_points]\n",
    "    edge_points = gpd.GeoSeries(edge_points, crs=4326).to_crs(PROJ_CRS).to_list()\n",
    "\n",
    "    return edge_points"
   ]
  },
  {
   "cell_type": "code",
   "execution_count": 21,
   "id": "596a543a-dc8b-47fe-938c-3340c952ceda",
   "metadata": {},
   "outputs": [],
   "source": [
    "def load_layers(cur_city):\n",
    "    coords_gdf = gpd.read_file(f'../data/city_pop_tiles/{cur_city}_coords.gpkg')\n",
    "    coords_gdf['geometry'] = coords_gdf.apply(lambda x: get_poly_tile(x), axis=1)\n",
    "    coords_gdf = coords_gdf.to_crs(PROJ_CRS)\n",
    "\n",
    "    rails_gdf = gpd.read_file(f'../data/osm_data/{cur_city}_rail_osm.geojson')\n",
    "    rails_gdf = rails_gdf.to_crs(PROJ_CRS)\n",
    "\n",
    "    stations_gdf = gpd.read_file(f'../data/osm_data/{cur_city}_station_osm.geojson')\n",
    "    stations_gdf = stations_gdf.to_crs(PROJ_CRS)\n",
    "\n",
    "    water_gdf = gpd.read_file(f'../data/city_water/{cur_city}_water.gpkg')\n",
    "    water_gdf = water_gdf.to_crs(PROJ_CRS)\n",
    "\n",
    "    return coords_gdf, rails_gdf, stations_gdf, water_gdf"
   ]
  },
  {
   "cell_type": "code",
   "execution_count": 22,
   "id": "051d70ee-c91b-417a-b87b-bb80def820e1",
   "metadata": {},
   "outputs": [
    {
     "data": {
      "image/png": "[encoded data removed]",
      "text/html": [
       "<div style=\"vertical-align: middle;\"><strong>soc</strong> </div><div class=\"cmap\"><img alt=\"soc colormap\" title=\"soc\" style=\"border: 1px solid #555;\" src=\"data:image/png;base64,iVBORw0KGgoAAAANSUhEUgAAAgAAAABACAYAAABsv8+/AAAAEnRFWHRUaXRsZQBzb2MgY29sb3JtYXD01RspAAAAGHRFWHREZXNjcmlwdGlvbgBzb2MgY29sb3JtYXD4/WlzAAAAMHRFWHRBdXRob3IATWF0cGxvdGxpYiB2My45LjIsIGh0dHBzOi8vbWF0cGxvdGxpYi5vcmdhmcVTAAAAMnRFWHRTb2Z0d2FyZQBNYXRwbG90bGliIHYzLjkuMiwgaHR0cHM6Ly9tYXRwbG90bGliLm9yZ08/WnQAAAISSURBVHic7dbLUoNAFEXRi5bm/z9WHVhJOxCQR5C8HFhnrYkFl4aGONhda+2lqqod31+rqtrp/VBVVf3fdlwcn76vW8/f+vnHYXq/ybr5dceP4b6vO/PZc9vxbXF+ed3nc1VVtfp26rrZcesPd+bDcduZD+vbnfPxect56+enjf1vzCf3+3U+rG8782H9o/b33/e/2t/P73l+f3fOJ/+Pv86H9av9b9y/jc/vz9d8fRu/x7BuuF23mNeF162ef/a6ahv3371u/rqb8wvfd33dte+7sY8/+i5777v6LjU/v/Vvc/m8m97+ivmt687Pa3l+3PeV+9lbt5pvfc8Hrxvnt/1O1Z9/KgAgjgAAgEACAAACCQAACCQAACCQAACAQAIAAAIJAAAIJAAAIJAAAIBAAgAAAgkAAAgkAAAgkAAAgEACAAACCQAACCQAACCQAACAQAIAAAIJAAAIJAAAIJAAAIBAAgAAAgkAAAgkAAAgkAAAgEACAAACCQAACCQAACCQAACAQAIAAAIJAAAIJAAAIJAAAIBAAgAAAgkAAAgkAAAgkAAAgEACAAACCQAACCQAACCQAACAQAIAAAIJAAAIJAAAIJAAAIBAAgAAAgkAAAgkAAAgkAAAgEACAAACCQAACCQAACCQAACAQAIAAAIJAAAIJAAAIJAAAIBAAgAAAgkAAAgkAAAgkAAAgEACAAACfQHrhmBmtaAMGAAAAABJRU5ErkJggg==\"></div><div style=\"vertical-align: middle; max-width: 514px; display: flex; justify-content: space-between;\"><div style=\"float: left;\"><div title=\"#ffffff05\" style=\"display: inline-block; width: 1em; height: 1em; margin: 0; vertical-align: middle; border: 1px solid #555; background-color: #ffffff05;\"></div> under</div><div style=\"margin: 0 auto; display: inline-block;\">bad <div title=\"#00000000\" style=\"display: inline-block; width: 1em; height: 1em; margin: 0; vertical-align: middle; border: 1px solid #555; background-color: #00000000;\"></div></div><div style=\"float: right;\">over <div title=\"#6d247acc\" style=\"display: inline-block; width: 1em; height: 1em; margin: 0; vertical-align: middle; border: 1px solid #555; background-color: #6d247acc;\"></div></div></div>"
      ],
      "text/plain": [
       "<matplotlib.colors.LinearSegmentedColormap at 0x7f3188729d00>"
      ]
     },
     "execution_count": 22,
     "metadata": {},
     "output_type": "execute_result"
    }
   ],
   "source": [
    "# # Original Colours\n",
    "# colours = ['#ffffff', '#f1c500', '#dc4633']\n",
    "# colors = np.array([(255, 255, 255, 0.5), (241, 197, 0, 1), (220, 70, 51, 1)]) / 255\n",
    "# colour_map = LinearSegmentedColormap.from_list(\"soc\", colours, N=100)  # https://matplotlib.org/stable/gallery/color/custom_cmap.html\n",
    "# colour_map\n",
    "\n",
    "# # Second Colours\n",
    "# colours = [\n",
    "#     (255 / 255, 255 / 255, 255 / 255,0),\n",
    "# \t(241 / 255, 197 / 255, 0 / 255,0.8),\n",
    "# \t(220 / 255, 70 / 255, 51 / 255,0.8),\n",
    "# \t(171 / 255, 19 / 255, 104 / 255,0.8),\n",
    "# \t(109 / 255, 36 / 255, 122 / 255,0.8),\n",
    "# ]\n",
    "\n",
    "# colour_map = LinearSegmentedColormap.from_list(\"soc\", colours, N=100)\n",
    "# colour_map\n",
    "\n",
    "# # Third Colours\n",
    "colors_with_positions = [\n",
    "    (0.0, (255 / 255, 255 / 255, 255 / 255, 0.02)),     # 0%\n",
    "    (0.1, (241 / 255, 197 / 255, 0 / 255, 0.7)),      # 7% 3k\n",
    "    (0.5, (220 / 255, 70 / 255, 51 / 255, 0.8)),      # 33% 15k\n",
    "    (0.75, (171 / 255, 19 / 255, 104 / 255, 0.8)),     # 66%\n",
    "    (1.0, (109 / 255, 36 / 255, 122 / 255, 0.8)),      # 100%\n",
    "]\n",
    "\n",
    "# Extract positions and colors\n",
    "positions, colors = zip(*colors_with_positions)\n",
    "\n",
    "# Create the colormap using the positions\n",
    "colour_map = LinearSegmentedColormap.from_list(\"soc\", list(zip(positions, colors)))\n",
    "colour_map"
   ]
  },
  {
   "cell_type": "code",
   "execution_count": 25,
   "id": "1d8512ed-a3f2-4807-931f-e975f0ae240c",
   "metadata": {},
   "outputs": [],
   "source": [
    "# dir_name = '../src/assets/city_image'  # Generating for website\n",
    "dir_name = '../poster/poster_maps'  # Generating for poster\n",
    "\n",
    "POSTER_CITIES = [\n",
    "    \"toronto\", \"montreal\", \"vancouver\", \"calgary\", \"ottawa\", \"new york\", \"chicago\",\n",
    "    \"madrid\", \"london\", \"moscow\", \"paris\",\n",
    "    \"cape town\", \"johannesburg\",\n",
    "    \"istanbul\", \"tunis\", \"tehran\", \"cairo\",\n",
    "    \"shenzhen\", \"hong kong\", \"tokyo\", \"seoul\", \"osaka\", \"beijing\", \"shanghai\", \"chongqing\",\n",
    "    \"singapore\", \"sydney\", \"kuala lumpur\", \"bangkok\",\n",
    "    \"buenos aires\", \"rio de janeiro\", \"sao paulo\", \"mexico city\",\n",
    "    \"mumbai\", \"delhi\", \"kolkata\", \"chennai\"\n",
    "]"
   ]
  },
  {
   "cell_type": "code",
   "execution_count": 26,
   "id": "35472459-0bca-444d-a41b-3c8450d61bef",
   "metadata": {},
   "outputs": [
    {
     "name": "stderr",
     "output_type": "stream",
     "text": [
      "100%|█████████████████████████████████████████| 279/279 [05:28<00:00,  1.18s/it]\n"
     ]
    }
   ],
   "source": [
    "cities_dens_gdf = gpd.read_file('../data/city_metrics.gpkg')\n",
    "for i, row_i in tqdm(cities_dens_gdf.iterrows(), total=cities_dens_gdf.shape[0]):\n",
    "    cur_city = row_i['NAME'].lower()\n",
    "\n",
    "    f_out = f'{dir_name}/{cur_city}.png'\n",
    "    # if os.path.exists(f_out):\n",
    "    #     continue\n",
    "\n",
    "    if cur_city not in POSTER_CITIES:\n",
    "        continue\n",
    "\n",
    "    # if cur_city != 'toronto':\n",
    "    #     continue\n",
    "\n",
    "    try:\n",
    "        # Load information\n",
    "        coords_gdf, rails_gdf, stations_gdf, water_gdf = load_layers(cur_city)\n",
    "        edge_points = get_graph_edges(cur_city)\n",
    "    \n",
    "        # Make and save graph\n",
    "        fig, ax = plt.subplots(figsize=(5, 5), dpi=250)  # website\n",
    "        # fig, ax = plt.subplots(figsize=(5, 5), dpi=1000)  # poster\n",
    "        adjust = 0.01  # higher means more zoom\n",
    "        plt.subplots_adjust(left=-adjust, right=1 + adjust, bottom=-adjust, top=1 + adjust)\n",
    "\n",
    "        base = coords_gdf.plot(\n",
    "            ax=ax,\n",
    "            column=\"pop_dens\",\n",
    "            cmap=colour_map,\n",
    "            missing_kwds={'color': 'white'},\n",
    "            vmin=0,\n",
    "            vmax=30000,\n",
    "        );\n",
    "\n",
    "        cx.add_basemap(\n",
    "            ax,\n",
    "            source=\"https://services.arcgisonline.com/arcgis/rest/services/Elevation/World_Hillshade/MapServer/tile/{z}/{y}/{x}\",\n",
    "            crs=coords_gdf.crs.to_string(),\n",
    "            alpha=0.55,\n",
    "        )\n",
    "        \n",
    "        base = water_gdf.plot(ax=base, color='#c6e0ea');\n",
    "        base = rails_gdf.plot(ax=base, color='#1e3765', lw=0.35, markersize=0.75);  # TODO: Filter for lines\n",
    "        base = stations_gdf.plot(ax=base, marker='s', color='#1e3765', markersize=0.5);\n",
    "        \n",
    "        # edge_points is in the order [E, N, W, S]\n",
    "        ax.set_xlim(edge_points[2].x, edge_points[0].x)  # W <--> E\n",
    "        ax.set_ylim(edge_points[3].y, edge_points[1].y)  # S <--> N\n",
    "        ax.margins(0,0)\n",
    "        \n",
    "        ax.set_axis_off();\n",
    "    \n",
    "        plt.savefig(f_out)\n",
    "        # plt.savefig(f'../data/city_maps/{cur_city}.png')\n",
    "        plt.clf()\n",
    "        plt.close()\n",
    "    except Exception as e:\n",
    "        print(f\"An error occurred for {cur_city}: {e}\")"
   ]
  }
 ],
 "metadata": {
  "kernelspec": {
   "display_name": "Python 3 (ipykernel)",
   "language": "python",
   "name": "python3"
  },
  "language_info": {
   "codemirror_mode": {
    "name": "ipython",
    "version": 3
   },
   "file_extension": ".py",
   "mimetype": "text/x-python",
   "name": "python",
   "nbconvert_exporter": "python",
   "pygments_lexer": "ipython3",
   "version": "3.12.5"
  }
 },
 "nbformat": 4,
 "nbformat_minor": 5
}

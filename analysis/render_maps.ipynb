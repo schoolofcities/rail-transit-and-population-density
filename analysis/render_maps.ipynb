{
 "cells": [
  {
   "cell_type": "code",
   "execution_count": 1,
   "id": "25415267-04f2-4f33-901c-c6a751277f79",
   "metadata": {},
   "outputs": [],
   "source": [
    "import os \n",
    "import numpy as np\n",
    "import pandas as pd\n",
    "from tqdm import tqdm\n",
    "import json\n",
    "\n",
    "import geopandas as gpd\n",
    "import rasterio as rio\n",
    "import geopy.distance\n",
    "import shapely\n",
    "from shapely.geometry import Point\n",
    "from shapely.geometry import Polygon\n",
    "\n",
    "from geog import propagate\n",
    "\n",
    "import matplotlib.pyplot as plt\n",
    "import matplotlib as mpl\n",
    "from matplotlib.colors import LinearSegmentedColormap"
   ]
  },
  {
   "cell_type": "code",
   "execution_count": 2,
   "id": "b86202cd-f2a1-44ea-a0b2-5ec2bc8228a5",
   "metadata": {},
   "outputs": [],
   "source": [
    "MAX_POP = 10000\n",
    "PROJ_CRS = 3857\n",
    "# CUR_CITY = 'montréal'"
   ]
  },
  {
   "cell_type": "code",
   "execution_count": 3,
   "id": "659a08d5-07e3-4c88-9fb9-87d989c56a38",
   "metadata": {},
   "outputs": [],
   "source": [
    "def get_poly_tile(row):\n",
    "    x, y = row['geometry'].x, row['geometry'].y\n",
    "    offset = 1 / 240  # 0.004166666666666667\n",
    "    L = [(x+offset,y+offset), (x-offset,y+offset), (x-offset,y-offset), (x+offset,y-offset), (x+offset,y+offset)]\n",
    "    return Polygon(L)"
   ]
  },
  {
   "cell_type": "code",
   "execution_count": 4,
   "id": "26fd713d-bd68-4a0b-bb3a-bbcd4b32aa24",
   "metadata": {},
   "outputs": [],
   "source": [
    "def get_graph_edges(cur_city):\n",
    "    coords_gdf = gpd.read_file(f'../data/pop_tiles/{cur_city}_coords.gpkg')\n",
    "    city_center = coords_gdf[coords_gdf['is_center']].geometry.iloc[0]\n",
    "    \n",
    "    p = [city_center.x, city_center.y]\n",
    "    n_points = 5\n",
    "    d = 50000 # meters\n",
    "    angles = np.linspace(0, 360, n_points)\n",
    "    edge_points = propagate(p, angles, d)[:-1]  # Order is: E, N, W, S\n",
    "    \n",
    "    edge_points = [Point((point[0], point[1])) for point in edge_points]\n",
    "    edge_points = gpd.GeoSeries(edge_points, crs=4326).to_crs(PROJ_CRS).to_list()\n",
    "\n",
    "    return edge_points"
   ]
  },
  {
   "cell_type": "code",
   "execution_count": 5,
   "id": "596a543a-dc8b-47fe-938c-3340c952ceda",
   "metadata": {},
   "outputs": [],
   "source": [
    "def load_layers(cur_city):\n",
    "    coords_gdf = gpd.read_file(f'../data/pop_tiles/{cur_city}_coords.gpkg')\n",
    "    coords_gdf['geometry'] = coords_gdf.apply(lambda x: get_poly_tile(x), axis=1)\n",
    "    coords_gdf['pop_count'] = np.where(coords_gdf['pop_count'] > MAX_POP, [MAX_POP], coords_gdf['pop_count'])\n",
    "    coords_gdf = coords_gdf.to_crs(PROJ_CRS)\n",
    "\n",
    "    rails_gdf = gpd.read_file(f'../data/osm_data/{cur_city}_rail_osm.geojson')\n",
    "    rails_gdf = rails_gdf.to_crs(PROJ_CRS)\n",
    "\n",
    "    stations_gdf = gpd.read_file(f'../data/osm_data/{cur_city}_station_osm.geojson')\n",
    "    stations_gdf = stations_gdf.to_crs(PROJ_CRS)\n",
    "\n",
    "    water_gdf = gpd.read_file(f'../data/city_water/{cur_city}_water.gpkg')\n",
    "    water_gdf = water_gdf.to_crs(PROJ_CRS)\n",
    "\n",
    "    return coords_gdf, rails_gdf, stations_gdf, water_gdf"
   ]
  },
  {
   "cell_type": "code",
   "execution_count": 6,
   "id": "051d70ee-c91b-417a-b87b-bb80def820e1",
   "metadata": {},
   "outputs": [],
   "source": [
    "colors = np.array([(255, 255, 255), (241, 197, 0), (220, 70, 51)]) / 255\n",
    "colour_map = LinearSegmentedColormap.from_list(\"soc\", colors, N=100)  # https://matplotlib.org/stable/gallery/color/custom_cmap.html"
   ]
  },
  {
   "cell_type": "code",
   "execution_count": 21,
   "id": "35472459-0bca-444d-a41b-3c8450d61bef",
   "metadata": {},
   "outputs": [
    {
     "name": "stderr",
     "output_type": "stream",
     "text": [
      " 35%|██████████████▏                          | 103/298 [06:23<10:31,  3.24s/it]/tmp/ipykernel_3682462/1778089068.py:23: UserWarning: The GeoDataFrame you are attempting to plot is empty. Nothing has been displayed.\n",
      "  base = rails_gdf.plot(ax=base, color='#1e3765', lw=0.25, markersize=0.75);  # TODO: Filter for lines\n",
      "/tmp/ipykernel_3682462/1778089068.py:24: UserWarning: The GeoDataFrame you are attempting to plot is empty. Nothing has been displayed.\n",
      "  base = stations_gdf.plot(ax=base, marker='s', color='#1e3765', markersize=0.75);\n",
      " 64%|██████████████████████████▍              | 192/298 [11:11<04:40,  2.65s/it]/tmp/ipykernel_3682462/1778089068.py:23: UserWarning: The GeoDataFrame you are attempting to plot is empty. Nothing has been displayed.\n",
      "  base = rails_gdf.plot(ax=base, color='#1e3765', lw=0.25, markersize=0.75);  # TODO: Filter for lines\n",
      "/tmp/ipykernel_3682462/1778089068.py:24: UserWarning: The GeoDataFrame you are attempting to plot is empty. Nothing has been displayed.\n",
      "  base = stations_gdf.plot(ax=base, marker='s', color='#1e3765', markersize=0.75);\n",
      " 72%|█████████████████████████████▌           | 215/298 [12:15<03:59,  2.89s/it]/tmp/ipykernel_3682462/1778089068.py:23: UserWarning: The GeoDataFrame you are attempting to plot is empty. Nothing has been displayed.\n",
      "  base = rails_gdf.plot(ax=base, color='#1e3765', lw=0.25, markersize=0.75);  # TODO: Filter for lines\n",
      "/tmp/ipykernel_3682462/1778089068.py:24: UserWarning: The GeoDataFrame you are attempting to plot is empty. Nothing has been displayed.\n",
      "  base = stations_gdf.plot(ax=base, marker='s', color='#1e3765', markersize=0.75);\n",
      " 72%|█████████████████████████████▋           | 216/298 [12:18<03:44,  2.74s/it]/tmp/ipykernel_3682462/1778089068.py:23: UserWarning: The GeoDataFrame you are attempting to plot is empty. Nothing has been displayed.\n",
      "  base = rails_gdf.plot(ax=base, color='#1e3765', lw=0.25, markersize=0.75);  # TODO: Filter for lines\n",
      "/tmp/ipykernel_3682462/1778089068.py:24: UserWarning: The GeoDataFrame you are attempting to plot is empty. Nothing has been displayed.\n",
      "  base = stations_gdf.plot(ax=base, marker='s', color='#1e3765', markersize=0.75);\n",
      " 78%|███████████████████████████████▉         | 232/298 [13:05<03:18,  3.01s/it]/tmp/ipykernel_3682462/1778089068.py:23: UserWarning: The GeoDataFrame you are attempting to plot is empty. Nothing has been displayed.\n",
      "  base = rails_gdf.plot(ax=base, color='#1e3765', lw=0.25, markersize=0.75);  # TODO: Filter for lines\n",
      "/tmp/ipykernel_3682462/1778089068.py:24: UserWarning: The GeoDataFrame you are attempting to plot is empty. Nothing has been displayed.\n",
      "  base = stations_gdf.plot(ax=base, marker='s', color='#1e3765', markersize=0.75);\n",
      " 80%|████████████████████████████████▌        | 237/298 [13:22<03:42,  3.65s/it]/tmp/ipykernel_3682462/1778089068.py:23: UserWarning: The GeoDataFrame you are attempting to plot is empty. Nothing has been displayed.\n",
      "  base = rails_gdf.plot(ax=base, color='#1e3765', lw=0.25, markersize=0.75);  # TODO: Filter for lines\n",
      " 81%|█████████████████████████████████▎       | 242/298 [13:38<03:18,  3.55s/it]/tmp/ipykernel_3682462/1778089068.py:23: UserWarning: The GeoDataFrame you are attempting to plot is empty. Nothing has been displayed.\n",
      "  base = rails_gdf.plot(ax=base, color='#1e3765', lw=0.25, markersize=0.75);  # TODO: Filter for lines\n",
      "/tmp/ipykernel_3682462/1778089068.py:24: UserWarning: The GeoDataFrame you are attempting to plot is empty. Nothing has been displayed.\n",
      "  base = stations_gdf.plot(ax=base, marker='s', color='#1e3765', markersize=0.75);\n",
      "100%|█████████████████████████████████████████| 298/298 [16:56<00:00,  3.41s/it]\n"
     ]
    }
   ],
   "source": [
    "cities_dens_gdf = gpd.read_file('../data/cities_dens.gpkg')\n",
    "\n",
    "for i, row_i in tqdm(cities_dens_gdf.iterrows(), total=cities_dens_gdf.shape[0]):\n",
    "    cur_city = row_i['NAME'].lower()\n",
    "\n",
    "    # Load information\n",
    "    coords_gdf, rails_gdf, stations_gdf, water_gdf = load_layers(cur_city)\n",
    "    edge_points = get_graph_edges(cur_city)\n",
    "\n",
    "    # Make and save graph\n",
    "    fig, ax = plt.subplots(figsize=(5, 5), dpi=500)\n",
    "    adjust = 0.01  # higher means more zoom\n",
    "    plt.subplots_adjust(left=-adjust, right=1 + adjust, bottom=-adjust, top=1 + adjust)\n",
    "    \n",
    "    base = coords_gdf.plot(\n",
    "        ax=ax,\n",
    "        column=\"pop_count\",\n",
    "        cmap=colour_map,\n",
    "        missing_kwds={'color': 'white'},\n",
    "    );\n",
    "    \n",
    "    base = water_gdf.plot(ax=base, color='#c6e0ea');\n",
    "    base = rails_gdf.plot(ax=base, color='#1e3765', lw=0.25, markersize=0.75);  # TODO: Filter for lines\n",
    "    base = stations_gdf.plot(ax=base, marker='s', color='#1e3765', markersize=0.75);\n",
    "    \n",
    "    # edge_points is in the order [E, N, W, S]\n",
    "    ax.set_xlim(edge_points[2].x, edge_points[0].x)  # W <--> E\n",
    "    ax.set_ylim(edge_points[3].y, edge_points[1].y)  # S <--> N\n",
    "    ax.margins(0,0)\n",
    "    \n",
    "    ax.set_axis_off();\n",
    "\n",
    "    plt.savefig(f'../src/assets/city_image/{cur_city}.png')\n",
    "    plt.clf()\n",
    "    plt.close()\n",
    "    \n",
    "    # Clip circle: https://matplotlib.org/stable/gallery/images_contours_and_fields/image_clip_path.html\n",
    "    # but also can just do HTML/CSS circle!!"
   ]
  }
 ],
 "metadata": {
  "kernelspec": {
   "display_name": "Python 3 (ipykernel)",
   "language": "python",
   "name": "python3"
  },
  "language_info": {
   "codemirror_mode": {
    "name": "ipython",
    "version": 3
   },
   "file_extension": ".py",
   "mimetype": "text/x-python",
   "name": "python",
   "nbconvert_exporter": "python",
   "pygments_lexer": "ipython3",
   "version": "3.12.5"
  }
 },
 "nbformat": 4,
 "nbformat_minor": 5
}

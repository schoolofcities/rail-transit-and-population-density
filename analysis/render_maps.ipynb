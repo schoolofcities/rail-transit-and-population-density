{
 "cells": [
  {
   "cell_type": "code",
   "execution_count": 2,
   "id": "25415267-04f2-4f33-901c-c6a751277f79",
   "metadata": {},
   "outputs": [],
   "source": [
    "import os \n",
    "import numpy as np\n",
    "import pandas as pd\n",
    "from tqdm import tqdm\n",
    "import json\n",
    "\n",
    "import geopandas as gpd\n",
    "import rasterio as rio\n",
    "import geopy.distance\n",
    "import shapely\n",
    "from shapely.geometry import Point\n",
    "from shapely.geometry import Polygon\n",
    "\n",
    "from geog import propagate\n",
    "\n",
    "import matplotlib.pyplot as plt\n",
    "import matplotlib as mpl\n",
    "from matplotlib.colors import LinearSegmentedColormap"
   ]
  },
  {
   "cell_type": "code",
   "execution_count": 3,
   "id": "b86202cd-f2a1-44ea-a0b2-5ec2bc8228a5",
   "metadata": {},
   "outputs": [],
   "source": [
    "MAX_POP = 10000\n",
    "PROJ_CRS = 3857\n",
    "# CUR_CITY = 'montréal'"
   ]
  },
  {
   "cell_type": "code",
   "execution_count": 4,
   "id": "659a08d5-07e3-4c88-9fb9-87d989c56a38",
   "metadata": {},
   "outputs": [],
   "source": [
    "def get_poly_tile(row):\n",
    "    x, y = row['geometry'].x, row['geometry'].y\n",
    "    offset = 1 / 240  # 0.004166666666666667\n",
    "    L = [(x+offset,y+offset), (x-offset,y+offset), (x-offset,y-offset), (x+offset,y-offset), (x+offset,y+offset)]\n",
    "    return Polygon(L)"
   ]
  },
  {
   "cell_type": "code",
   "execution_count": 5,
   "id": "26fd713d-bd68-4a0b-bb3a-bbcd4b32aa24",
   "metadata": {},
   "outputs": [],
   "source": [
    "def get_graph_edges(cur_city):\n",
    "    coords_gdf = gpd.read_file(f'../data/city_pop_tiles/{cur_city}_coords.gpkg')\n",
    "    city_center = coords_gdf[coords_gdf['is_center']].geometry.iloc[0]\n",
    "    \n",
    "    p = [city_center.x, city_center.y]\n",
    "    n_points = 5\n",
    "    d = 50000 # meters\n",
    "    angles = np.linspace(0, 360, n_points)\n",
    "    edge_points = propagate(p, angles, d)[:-1]  # Order is: E, N, W, S\n",
    "    \n",
    "    edge_points = [Point((point[0], point[1])) for point in edge_points]\n",
    "    edge_points = gpd.GeoSeries(edge_points, crs=4326).to_crs(PROJ_CRS).to_list()\n",
    "\n",
    "    return edge_points"
   ]
  },
  {
   "cell_type": "code",
   "execution_count": 6,
   "id": "596a543a-dc8b-47fe-938c-3340c952ceda",
   "metadata": {},
   "outputs": [],
   "source": [
    "def load_layers(cur_city):\n",
    "    coords_gdf = gpd.read_file(f'../data/city_pop_tiles/{cur_city}_coords.gpkg')\n",
    "    coords_gdf['geometry'] = coords_gdf.apply(lambda x: get_poly_tile(x), axis=1)\n",
    "    # coords_gdf['pop_count'] = np.where(coords_gdf['pop_count'] > MAX_POP, [MAX_POP], coords_gdf['pop_count'])\n",
    "    coords_gdf = coords_gdf.to_crs(PROJ_CRS)\n",
    "\n",
    "    rails_gdf = gpd.read_file(f'../data/osm_data/{cur_city}_rail_osm.geojson')\n",
    "    rails_gdf = rails_gdf.to_crs(PROJ_CRS)\n",
    "\n",
    "    stations_gdf = gpd.read_file(f'../data/osm_data/{cur_city}_station_osm.geojson')\n",
    "    stations_gdf = stations_gdf.to_crs(PROJ_CRS)\n",
    "\n",
    "    water_gdf = gpd.read_file(f'../data/city_water/{cur_city}_water.gpkg')\n",
    "    water_gdf = water_gdf.to_crs(PROJ_CRS)\n",
    "\n",
    "    return coords_gdf, rails_gdf, stations_gdf, water_gdf"
   ]
  },
  {
   "cell_type": "code",
   "execution_count": 7,
   "id": "051d70ee-c91b-417a-b87b-bb80def820e1",
   "metadata": {},
   "outputs": [
    {
     "data": {
      "image/png": "[encoded data removed]",
      "text/html": [
       "<div style=\"vertical-align: middle;\"><strong>soc</strong> </div><div class=\"cmap\"><img alt=\"soc colormap\" title=\"soc\" style=\"border: 1px solid #555;\" src=\"data:image/png;base64,iVBORw0KGgoAAAANSUhEUgAAAgAAAABACAYAAABsv8+/AAAAEnRFWHRUaXRsZQBzb2MgY29sb3JtYXD01RspAAAAGHRFWHREZXNjcmlwdGlvbgBzb2MgY29sb3JtYXD4/WlzAAAAMHRFWHRBdXRob3IATWF0cGxvdGxpYiB2My45LjIsIGh0dHBzOi8vbWF0cGxvdGxpYi5vcmdhmcVTAAAAMnRFWHRTb2Z0d2FyZQBNYXRwbG90bGliIHYzLjkuMiwgaHR0cHM6Ly9tYXRwbG90bGliLm9yZ08/WnQAAAGsSURBVHic7dZRaoQwFEBRp/tfcUu1C/AVIgpTes/5lGTyDA7c13EcxzY49s/h4dfSs2Nx3bZP687nLv/elXnGsx+eZ5plOvfC2U/f9/q7DLNcmWfxvud5Fr/F1ff7bf+deW693/r3Pd/tjf/qvg+/9zqv+z4/m9Zt07oL+59eN82zvPfSOR/nvQ/Pc2Xu8ZzVeZ6+x9Uz/to8d+d+1zzjuefvc9u2bX4KAPxrAgAAggQAAAQJAAAIEgAAECQAACBIAABAkAAAgCABAABBAgAAggQAAAQJAAAIEgAAECQAACBIAABAkAAAgCABAABBAgAAggQAAAQJAAAIEgAAECQAACBIAABAkAAAgCABAABBAgAAggQAAAQJAAAIEgAAECQAACBIAABAkAAAgCABAABBAgAAggQAAAQJAAAIEgAAECQAACBIAABAkAAAgCABAABBAgAAggQAAAQJAAAIEgAAECQAACBIAABAkAAAgCABAABBAgAAggQAAAQJAAAIEgAAECQAACBIAABAkAAAgCABAABBAgAAggQAAAQJAAAIEgAAECQAACBIAABA0A+RUrrUeEBNiwAAAABJRU5ErkJggg==\"></div><div style=\"vertical-align: middle; max-width: 514px; display: flex; justify-content: space-between;\"><div style=\"float: left;\"><div title=\"#ffffffff\" style=\"display: inline-block; width: 1em; height: 1em; margin: 0; vertical-align: middle; border: 1px solid #555; background-color: #ffffffff;\"></div> under</div><div style=\"margin: 0 auto; display: inline-block;\">bad <div title=\"#00000000\" style=\"display: inline-block; width: 1em; height: 1em; margin: 0; vertical-align: middle; border: 1px solid #555; background-color: #00000000;\"></div></div><div style=\"float: right;\">over <div title=\"#dc4633ff\" style=\"display: inline-block; width: 1em; height: 1em; margin: 0; vertical-align: middle; border: 1px solid #555; background-color: #dc4633ff;\"></div></div></div>"
      ],
      "text/plain": [
       "<matplotlib.colors.LinearSegmentedColormap at 0x7fdb3076d520>"
      ]
     },
     "execution_count": 7,
     "metadata": {},
     "output_type": "execute_result"
    }
   ],
   "source": [
    "colours = ['#ffffff', '#f1c500', '#dc4633']\n",
    "# colors = np.array([(255, 255, 255), (241, 197, 0), (220, 70, 51)]) / 255\n",
    "colour_map = LinearSegmentedColormap.from_list(\"soc\", colours, N=100)  # https://matplotlib.org/stable/gallery/color/custom_cmap.html\n",
    "colour_map"
   ]
  },
  {
   "cell_type": "code",
   "execution_count": 8,
   "id": "35472459-0bca-444d-a41b-3c8450d61bef",
   "metadata": {},
   "outputs": [
    {
     "name": "stderr",
     "output_type": "stream",
     "text": [
      " 72%|█████████████████████████████▎           | 192/268 [10:23<02:22,  1.88s/it]"
     ]
    },
    {
     "name": "stdout",
     "output_type": "stream",
     "text": [
      "failed on: haikou\n"
     ]
    },
    {
     "name": "stderr",
     "output_type": "stream",
     "text": [
      " 80%|████████████████████████████████▉        | 215/268 [11:38<02:56,  3.32s/it]/tmp/ipykernel_1940624/2861115039.py:30: UserWarning: The GeoDataFrame you are attempting to plot is empty. Nothing has been displayed.\n",
      "  base = rails_gdf.plot(ax=base, color='#1e3765', lw=0.25, markersize=0.75);  # TODO: Filter for lines\n",
      "100%|█████████████████████████████████████████| 268/268 [14:23<00:00,  3.22s/it]\n"
     ]
    }
   ],
   "source": [
    "cities_dens_gdf = gpd.read_file('../data/city_metrics.gpkg')\n",
    "\n",
    "for i, row_i in tqdm(cities_dens_gdf.iterrows(), total=cities_dens_gdf.shape[0]):\n",
    "    cur_city = row_i['NAME'].lower()\n",
    "\n",
    "    f_out = f'../src/assets/city_image/{cur_city}.png'\n",
    "    if os.path.exists(f_out):\n",
    "        continue\n",
    "\n",
    "    try:\n",
    "        # Load information\n",
    "        coords_gdf, rails_gdf, stations_gdf, water_gdf = load_layers(cur_city)\n",
    "        edge_points = get_graph_edges(cur_city)\n",
    "    \n",
    "        # Make and save graph\n",
    "        fig, ax = plt.subplots(figsize=(5, 5), dpi=500)\n",
    "        adjust = 0.01  # higher means more zoom\n",
    "        plt.subplots_adjust(left=-adjust, right=1 + adjust, bottom=-adjust, top=1 + adjust)\n",
    "        \n",
    "        base = coords_gdf.plot(\n",
    "            ax=ax,\n",
    "            column=\"pop_dens\",\n",
    "            cmap=colour_map,\n",
    "            missing_kwds={'color': 'white'},\n",
    "            vmin=0,\n",
    "            vmax=10000,\n",
    "        );\n",
    "        \n",
    "        base = water_gdf.plot(ax=base, color='#c6e0ea');\n",
    "        base = rails_gdf.plot(ax=base, color='#1e3765', lw=0.25, markersize=0.75);  # TODO: Filter for lines\n",
    "        base = stations_gdf.plot(ax=base, marker='s', color='#1e3765', markersize=0.75);\n",
    "        \n",
    "        # edge_points is in the order [E, N, W, S]\n",
    "        ax.set_xlim(edge_points[2].x, edge_points[0].x)  # W <--> E\n",
    "        ax.set_ylim(edge_points[3].y, edge_points[1].y)  # S <--> N\n",
    "        ax.margins(0,0)\n",
    "        \n",
    "        ax.set_axis_off();\n",
    "    \n",
    "        plt.savefig(f_out)\n",
    "        # plt.savefig(f'../data/city_maps/{cur_city}.png')\n",
    "        plt.clf()\n",
    "        plt.close()\n",
    "        \n",
    "        # Clip circle: https://matplotlib.org/stable/gallery/images_contours_and_fields/image_clip_path.html\n",
    "        # but also can just do HTML/CSS circle!!\n",
    "    except:\n",
    "        print(f'failed on: {cur_city}')"
   ]
  }
 ],
 "metadata": {
  "kernelspec": {
   "display_name": "Python 3 (ipykernel)",
   "language": "python",
   "name": "python3"
  },
  "language_info": {
   "codemirror_mode": {
    "name": "ipython",
    "version": 3
   },
   "file_extension": ".py",
   "mimetype": "text/x-python",
   "name": "python",
   "nbconvert_exporter": "python",
   "pygments_lexer": "ipython3",
   "version": "3.12.5"
  }
 },
 "nbformat": 4,
 "nbformat_minor": 5
}

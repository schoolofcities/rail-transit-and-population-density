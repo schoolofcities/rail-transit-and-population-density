{
 "cells": [
  {
   "cell_type": "code",
   "execution_count": 1,
   "id": "cc1d120f-95e1-4177-86ca-8508fc02fc88",
   "metadata": {},
   "outputs": [],
   "source": [
    "import os \n",
    "import numpy as np\n",
    "import pandas as pd\n",
    "from tqdm import tqdm\n",
    "\n",
    "import geopandas as gpd\n",
    "import geopy.distance\n",
    "from shapely.geometry import Point\n",
    "from shapely.geometry import Polygon\n",
    "\n",
    "tqdm.pandas()"
   ]
  },
  {
   "cell_type": "code",
   "execution_count": 2,
   "id": "86129ae5-2463-47b8-9456-172ae20411e1",
   "metadata": {},
   "outputs": [],
   "source": [
    "PROJ_CRS = 3857"
   ]
  },
  {
   "cell_type": "code",
   "execution_count": 3,
   "id": "e233c559-61f9-4846-8bf5-f069a98d32a3",
   "metadata": {},
   "outputs": [],
   "source": [
    "water_gdf = gpd.read_file(f'../gis/water_simp.gpkg')\n",
    "water_gdf = water_gdf.to_crs(PROJ_CRS)"
   ]
  },
  {
   "cell_type": "code",
   "execution_count": 41,
   "id": "8b0a7377-1ffc-4a81-a087-3961f06f8b86",
   "metadata": {},
   "outputs": [],
   "source": [
    "water_gdf[\"centroid\"] = water_gdf.centroid"
   ]
  },
  {
   "cell_type": "code",
   "execution_count": 4,
   "id": "b486c1ca-1e87-4ecf-944c-c3d949688a1e",
   "metadata": {},
   "outputs": [],
   "source": [
    "cities_dens_gdf = gpd.read_file('../data/cities_dens.gpkg')\n",
    "cities_dens_gdf = cities_dens_gdf.to_crs(PROJ_CRS)"
   ]
  },
  {
   "cell_type": "code",
   "execution_count": 39,
   "id": "6ccb61e0-3f4f-4537-bdba-da97c05da6e9",
   "metadata": {},
   "outputs": [],
   "source": [
    "def save_city_water_polys(row):\n",
    "    city_geom = row.geometry\n",
    "    city_point = Point(city_geom.x, city_geom.y)\n",
    "    city_name = row.NAME.lower()\n",
    "    print(city_name)\n",
    "\n",
    "    # water_gdf[\"distance\"] = water_gdf[\"centroid\"].distance(toronto_point) / 1000  # km\n",
    "    # water_gdf[water_gdf[\"distance\"] <= 300].drop([\"centroid\", \"distance\"], axis=1).to_file(\"../data/city_water/toronto_water.gpkg\", driver=\"GPKG\")"
   ]
  },
  {
   "cell_type": "code",
   "execution_count": 40,
   "id": "bfebc2e1-e8a8-44ff-9012-76730e61d9ea",
   "metadata": {},
   "outputs": [
    {
     "data": {
      "text/plain": [
       "0      None\n",
       "1      None\n",
       "2      None\n",
       "3      None\n",
       "4      None\n",
       "       ... \n",
       "293    None\n",
       "294    None\n",
       "295    None\n",
       "296    None\n",
       "297    None\n",
       "Length: 298, dtype: object"
      ]
     },
     "execution_count": 40,
     "metadata": {},
     "output_type": "execute_result"
    }
   ],
   "source": [
    "cities_dens_gdf.apply(lambda x: save_city_water_polys(x), axis=1)"
   ]
  },
  {
   "cell_type": "code",
   "execution_count": null,
   "id": "ec2fbff5-e9b9-44c9-b7fd-d9f6c8b15378",
   "metadata": {},
   "outputs": [],
   "source": []
  }
 ],
 "metadata": {
  "kernelspec": {
   "display_name": "Python 3 (ipykernel)",
   "language": "python",
   "name": "python3"
  },
  "language_info": {
   "codemirror_mode": {
    "name": "ipython",
    "version": 3
   },
   "file_extension": ".py",
   "mimetype": "text/x-python",
   "name": "python",
   "nbconvert_exporter": "python",
   "pygments_lexer": "ipython3",
   "version": "3.12.5"
  }
 },
 "nbformat": 4,
 "nbformat_minor": 5
}
